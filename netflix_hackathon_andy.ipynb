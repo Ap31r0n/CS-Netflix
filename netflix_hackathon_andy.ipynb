{
 "cells": [
  {
   "cell_type": "markdown",
   "id": "a1008596-67ae-4e43-876c-c939e5f80d68",
   "metadata": {},
   "source": [
    "## Netflix Hackathon"
   ]
  },
  {
   "cell_type": "code",
   "execution_count": 4,
   "id": "140a9c66-d9f5-4177-8a7d-8375faa05f47",
   "metadata": {},
   "outputs": [],
   "source": [
    "# import zipfile\n",
    "# with zipfile.ZipFile('archive (2).zip', 'r') as zip_ref:\n",
    "#     zip_ref.extractall()"
   ]
  },
  {
   "cell_type": "code",
   "execution_count": 156,
   "id": "4094d267-a64c-48ad-b28b-dab4a03720f4",
   "metadata": {},
   "outputs": [],
   "source": [
    "import pandas as pd\n",
    "import numpy as np\n",
    "import matplotlib.pyplot as plt\n",
    "import seaborn as sns"
   ]
  },
  {
   "cell_type": "code",
   "execution_count": 8,
   "id": "f053a1d6-83b3-4d77-a6cd-e6c055c2cb8c",
   "metadata": {},
   "outputs": [
    {
     "name": "stdout",
     "output_type": "stream",
     "text": [
      "Number of elements:  8807\n",
      "\n",
      " Null counts:\n"
     ]
    },
    {
     "data": {
      "text/plain": [
       "director      2634\n",
       "cast           825\n",
       "country        831\n",
       "date_added      10\n",
       "rating           4\n",
       "duration         3\n",
       "dtype: int64"
      ]
     },
     "execution_count": 8,
     "metadata": {},
     "output_type": "execute_result"
    }
   ],
   "source": [
    "df=pd.read_csv('netflix_titles.csv', index_col='show_id')"
   ]
  },
  {
   "cell_type": "markdown",
   "id": "d259e3e1-b4f1-4f55-9738-cf41c668d39f",
   "metadata": {},
   "source": [
    "Example Cleaning and Preprocessing Steps:\n",
    "\n",
    "1. Convert Data Types:\\\n",
    "· Ensure that the ' date_added' column is in datetime format.\\\n",
    "· Ensure that the ' release_year' column is in the correct numeric format.\n",
    "\n",
    "2. Create Additional Features:\\\n",
    "· Extract month and year from the ' date_added' column for time-based analysis.\n",
    "\n",
    "3. Handle Missing Values:\\\n",
    "· For numeric columns, fill in missing values with the mean or median.\\\n",
    "· For categorical columns 'rating', 'duration' and 'country', fill missing values with the mode or a\\\n",
    "placeholder like \"Unknown\", “Not Rated”\n",
    "\n",
    "4. Clean Categorical Data:\\\n",
    "· Standardize capitalization in categorical columns 'type' and 'rating' for consistency.\n",
    "\n",
    "5. Remove Duplicates:\\\n",
    "· Check for and remove any duplicate entries.\n",
    "\n",
    "6. Handle Outliers (Optional):\\\n",
    "· Investigate and handle any outliers in colum"
   ]
  },
  {
   "cell_type": "markdown",
   "id": "9f03cc83-0ae7-4560-a9d6-d469d51534c9",
   "metadata": {
    "jp-MarkdownHeadingCollapsed": true
   },
   "source": [
    "#### 1&2. dtypes and feature creation"
   ]
  },
  {
   "cell_type": "code",
   "execution_count": 54,
   "id": "839b03f3-d28e-47a4-a41e-eb03080275eb",
   "metadata": {},
   "outputs": [],
   "source": [
    "#converting dtypes and extracting features\n",
    "\n",
    "df['date_added'] = pd.to_datetime(df['date_added'].str.strip())\n",
    "df['release_year'] = df['release_year'].astype('float64') \n",
    "df['month_added'] = df['date_added'].dt.month\n",
    "df['year_added'] = df['date_added'].dt.year"
   ]
  },
  {
   "cell_type": "markdown",
   "id": "54e1aad8-b437-43fa-a308-01ae06136de8",
   "metadata": {
    "jp-MarkdownHeadingCollapsed": true
   },
   "source": [
    "#### 3. Dealing with nulls\n",
    "\n",
    "##### still to do: rating and date/month/year added"
   ]
  },
  {
   "cell_type": "code",
   "execution_count": 65,
   "id": "43d7f803-075f-43db-b101-eeed84f46883",
   "metadata": {},
   "outputs": [
    {
     "name": "stdout",
     "output_type": "stream",
     "text": [
      "['director', 'cast', 'country', 'rating', 'duration'] ['date_added', 'month_added', 'year_added']\n"
     ]
    }
   ],
   "source": [
    "#Prepping cols in case we wanted a different imputation strategy\n",
    "catcols = [col for col in df.columns if df[col].dtype == 'object']\n",
    "nancols = [col for col in df.columns if df[col].isna().sum() >0]\n",
    "numnancols = [col for col in nancols if col not in catcols]\n",
    "catnancols = [col for col in nancols if col in catcols]\n",
    "print(catnancols, numnancols)"
   ]
  },
  {
   "cell_type": "markdown",
   "id": "eb9394f3-6387-4b4e-bc0a-7df7cc4ed445",
   "metadata": {},
   "source": [
    "##### country director cast \n",
    "    - fill Unknown?\n",
    "##### rating and duration \n",
    "    - look up actual values\n",
    "##### Not sure how to treat date, month year added cols \n",
    "    (possibly look up)"
   ]
  },
  {
   "cell_type": "code",
   "execution_count": 87,
   "id": "67fb9033-39da-4735-aff4-9e13e28f24a6",
   "metadata": {},
   "outputs": [],
   "source": [
    "#filling cats with 'Unknown'\n",
    "\n",
    "for col in ['director','cast','country']:\n",
    "    df[col] = df[col].fillna('Unknown')\n",
    "\n",
    "# df"
   ]
  },
  {
   "cell_type": "code",
   "execution_count": 90,
   "id": "2079ca4e-32d6-47ff-9629-2539ff60051e",
   "metadata": {},
   "outputs": [],
   "source": [
    "# df.isna().sum()"
   ]
  },
  {
   "cell_type": "markdown",
   "id": "bd4f5f72-1e3c-4c1b-a60a-9865939dd2e1",
   "metadata": {},
   "source": [
    "##### date, month and year added \n",
    "    to fix, don't know how\n",
    "##### rating and duration \n",
    "    to look up"
   ]
  },
  {
   "cell_type": "markdown",
   "id": "641da349-b916-4d1f-a57c-191c32e9d42e",
   "metadata": {
    "jp-MarkdownHeadingCollapsed": true
   },
   "source": [
    "#### 4. Good format of capitalisation for 'rating' and 'duration' - was fine, but did move some missplaced data\n",
    "\n",
    "##### Double check"
   ]
  },
  {
   "cell_type": "markdown",
   "id": "c84022b8-ef88-4eb3-ad12-73213a007ce9",
   "metadata": {},
   "source": [
    "##### Capitalisation seems standardised; but there are a few rating values in duration;"
   ]
  },
  {
   "cell_type": "code",
   "execution_count": 93,
   "id": "cf95544a-c012-45b4-a696-76bddfb4e3d8",
   "metadata": {},
   "outputs": [
    {
     "data": {
      "text/plain": [
       "rating\n",
       "TV-MA       3207\n",
       "TV-14       2160\n",
       "TV-PG        863\n",
       "R            799\n",
       "PG-13        490\n",
       "TV-Y7        334\n",
       "TV-Y         307\n",
       "PG           287\n",
       "TV-G         220\n",
       "NR            80\n",
       "G             41\n",
       "TV-Y7-FV       6\n",
       "NC-17          3\n",
       "UR             3\n",
       "74 min         1\n",
       "84 min         1\n",
       "66 min         1\n",
       "Name: count, dtype: int64"
      ]
     },
     "execution_count": 93,
     "metadata": {},
     "output_type": "execute_result"
    }
   ],
   "source": [
    "df['rating'].value_counts()"
   ]
  },
  {
   "cell_type": "code",
   "execution_count": 120,
   "id": "67ea57ef-f411-497d-843a-3213d521557a",
   "metadata": {},
   "outputs": [
    {
     "data": {
      "text/plain": [
       "show_id\n",
       "s5542    74 min\n",
       "Name: rating, dtype: object"
      ]
     },
     "metadata": {},
     "output_type": "display_data"
    },
    {
     "data": {
      "text/plain": [
       "show_id\n",
       "s5795    84 min\n",
       "Name: rating, dtype: object"
      ]
     },
     "metadata": {},
     "output_type": "display_data"
    },
    {
     "data": {
      "text/plain": [
       "show_id\n",
       "s5814    66 min\n",
       "Name: rating, dtype: object"
      ]
     },
     "metadata": {},
     "output_type": "display_data"
    }
   ],
   "source": [
    "display(df['rating'][df['rating'] == ('74 min')],\n",
    "df['rating'][df['rating'] == ('84 min')],\n",
    "df['rating'][df['rating'] == ('66 min')])\n"
   ]
  },
  {
   "cell_type": "code",
   "execution_count": 133,
   "id": "d74d2d89-f064-454b-ad71-98dfa2d74754",
   "metadata": {},
   "outputs": [
    {
     "data": {
      "text/html": [
       "<div>\n",
       "<style scoped>\n",
       "    .dataframe tbody tr th:only-of-type {\n",
       "        vertical-align: middle;\n",
       "    }\n",
       "\n",
       "    .dataframe tbody tr th {\n",
       "        vertical-align: top;\n",
       "    }\n",
       "\n",
       "    .dataframe thead th {\n",
       "        text-align: right;\n",
       "    }\n",
       "</style>\n",
       "<table border=\"1\" class=\"dataframe\">\n",
       "  <thead>\n",
       "    <tr style=\"text-align: right;\">\n",
       "      <th></th>\n",
       "      <th>type</th>\n",
       "      <th>title</th>\n",
       "      <th>director</th>\n",
       "      <th>cast</th>\n",
       "      <th>country</th>\n",
       "      <th>date_added</th>\n",
       "      <th>release_year</th>\n",
       "      <th>rating</th>\n",
       "      <th>duration</th>\n",
       "      <th>listed_in</th>\n",
       "      <th>description</th>\n",
       "      <th>month_added</th>\n",
       "      <th>year_added</th>\n",
       "    </tr>\n",
       "    <tr>\n",
       "      <th>show_id</th>\n",
       "      <th></th>\n",
       "      <th></th>\n",
       "      <th></th>\n",
       "      <th></th>\n",
       "      <th></th>\n",
       "      <th></th>\n",
       "      <th></th>\n",
       "      <th></th>\n",
       "      <th></th>\n",
       "      <th></th>\n",
       "      <th></th>\n",
       "      <th></th>\n",
       "      <th></th>\n",
       "    </tr>\n",
       "  </thead>\n",
       "  <tbody>\n",
       "    <tr>\n",
       "      <th>s5542</th>\n",
       "      <td>Movie</td>\n",
       "      <td>Louis C.K. 2017</td>\n",
       "      <td>Louis C.K.</td>\n",
       "      <td>Louis C.K.</td>\n",
       "      <td>United States</td>\n",
       "      <td>2017-04-04</td>\n",
       "      <td>2017.0</td>\n",
       "      <td>NaN</td>\n",
       "      <td>74 min</td>\n",
       "      <td>Movies</td>\n",
       "      <td>Louis C.K. muses on religion, eternal love, gi...</td>\n",
       "      <td>4.0</td>\n",
       "      <td>2017.0</td>\n",
       "    </tr>\n",
       "    <tr>\n",
       "      <th>s5795</th>\n",
       "      <td>Movie</td>\n",
       "      <td>Louis C.K.: Hilarious</td>\n",
       "      <td>Louis C.K.</td>\n",
       "      <td>Louis C.K.</td>\n",
       "      <td>United States</td>\n",
       "      <td>2016-09-16</td>\n",
       "      <td>2010.0</td>\n",
       "      <td>NaN</td>\n",
       "      <td>84 min</td>\n",
       "      <td>Movies</td>\n",
       "      <td>Emmy-winning comedy writer Louis C.K. brings h...</td>\n",
       "      <td>9.0</td>\n",
       "      <td>2016.0</td>\n",
       "    </tr>\n",
       "    <tr>\n",
       "      <th>s5814</th>\n",
       "      <td>Movie</td>\n",
       "      <td>Louis C.K.: Live at the Comedy Store</td>\n",
       "      <td>Louis C.K.</td>\n",
       "      <td>Louis C.K.</td>\n",
       "      <td>United States</td>\n",
       "      <td>2016-08-15</td>\n",
       "      <td>2015.0</td>\n",
       "      <td>NaN</td>\n",
       "      <td>66 min</td>\n",
       "      <td>Movies</td>\n",
       "      <td>The comic puts his trademark hilarious/thought...</td>\n",
       "      <td>8.0</td>\n",
       "      <td>2016.0</td>\n",
       "    </tr>\n",
       "  </tbody>\n",
       "</table>\n",
       "</div>"
      ],
      "text/plain": [
       "          type                                 title    director        cast  \\\n",
       "show_id                                                                        \n",
       "s5542    Movie                       Louis C.K. 2017  Louis C.K.  Louis C.K.   \n",
       "s5795    Movie                 Louis C.K.: Hilarious  Louis C.K.  Louis C.K.   \n",
       "s5814    Movie  Louis C.K.: Live at the Comedy Store  Louis C.K.  Louis C.K.   \n",
       "\n",
       "               country date_added  release_year rating duration listed_in  \\\n",
       "show_id                                                                     \n",
       "s5542    United States 2017-04-04        2017.0    NaN   74 min    Movies   \n",
       "s5795    United States 2016-09-16        2010.0    NaN   84 min    Movies   \n",
       "s5814    United States 2016-08-15        2015.0    NaN   66 min    Movies   \n",
       "\n",
       "                                               description  month_added  \\\n",
       "show_id                                                                   \n",
       "s5542    Louis C.K. muses on religion, eternal love, gi...          4.0   \n",
       "s5795    Emmy-winning comedy writer Louis C.K. brings h...          9.0   \n",
       "s5814    The comic puts his trademark hilarious/thought...          8.0   \n",
       "\n",
       "         year_added  \n",
       "show_id              \n",
       "s5542        2017.0  \n",
       "s5795        2016.0  \n",
       "s5814        2016.0  "
      ]
     },
     "execution_count": 133,
     "metadata": {},
     "output_type": "execute_result"
    }
   ],
   "source": [
    "weird_is = df.loc[['s5542','s5795','s5814'],:].index\n",
    "\n",
    "for i in weird_is:\n",
    "    df.loc[i,'duration'] = df.loc[i,'rating']\n",
    "    df.loc[i,'rating'] = np.nan\n",
    "\n",
    "df.loc[weird_is]"
   ]
  },
  {
   "cell_type": "markdown",
   "id": "66bb3db9-07b7-479b-bba6-d9278f879c46",
   "metadata": {
    "jp-MarkdownHeadingCollapsed": true
   },
   "source": [
    "#### 5. Removing Duplicates\n",
    "\n",
    "##### Double check"
   ]
  },
  {
   "cell_type": "code",
   "execution_count": 141,
   "id": "43f45e41-4c2f-4088-bc2b-7e0f5439e3e2",
   "metadata": {},
   "outputs": [
    {
     "name": "stdout",
     "output_type": "stream",
     "text": [
      "8807\n"
     ]
    },
    {
     "data": {
      "text/plain": [
       "8807"
      ]
     },
     "execution_count": 141,
     "metadata": {},
     "output_type": "execute_result"
    }
   ],
   "source": [
    "print(len(df))\n",
    "df.index.nunique()"
   ]
  },
  {
   "cell_type": "code",
   "execution_count": 147,
   "id": "ae622304-ee76-4011-b780-5448afb1a984",
   "metadata": {},
   "outputs": [
    {
     "name": "stdout",
     "output_type": "stream",
     "text": [
      "type 2\n",
      "title 8807\n",
      "director 4529\n",
      "cast 7693\n",
      "country 749\n",
      "date_added 1714\n",
      "release_year 74\n",
      "rating 14\n",
      "duration 220\n",
      "listed_in 514\n",
      "description 8775\n",
      "month_added 12\n",
      "year_added 14\n"
     ]
    }
   ],
   "source": [
    "for col in df.columns:\n",
    "    print(col, df[col].nunique())\n",
    "# df.description.nunique()"
   ]
  },
  {
   "cell_type": "code",
   "execution_count": 150,
   "id": "7f5d58ec-1a62-427e-a56d-85a53694a336",
   "metadata": {},
   "outputs": [
    {
     "data": {
      "text/plain": [
       "description\n",
       "Paranormal activity at a lush, abandoned property alarms a group eager to redevelop the site, but the eerie events may not be as unearthly as they think.    4\n",
       "Challenged to compose 100 songs before he can marry the girl he loves, a tortured but passionate singer-songwriter embarks on a poignant musical journey.    3\n",
       "A surly septuagenarian gets another chance at her 20s after having her photo snapped at a studio that magically takes 50 years off her life.                 3\n",
       "Multiple women report their husbands as missing but when it appears they are looking for the same man, a police officer traces their cryptic connection.     3\n",
       "Secrets bubble to the surface after a sensual encounter and an unforeseen crime entangle two friends and a woman caught between them.                        2\n",
       "On India's Independence Day, a zany mishap in a Mumbai chawl disrupts a young love story while compelling the residents to unite in aid of a little boy.     2\n",
       "With their biggest foe seemingly defeated, InuYasha and his friends return to everyday life. But the peace is soon shattered by an emerging new enemy.       2\n",
       "The Great Dog Demon beaqueathed one of the Three Swords of the Fang to each of his two sons. Now the evil power of the third sword has been awakened.        2\n",
       "Mistakenly accused of an attack on the Fourth Raikage, ninja Naruto is imprisoned in the impenetrable Hozuki Castle and his powers are sealed.               2\n",
       "As a woman scours Hyderabad for her missing husband, she becomes entangled in a conspiracy that suggests there’s more to the mystery than meets the eye.     2\n",
       "When pretty new neighbor Seema falls for their shy roommate Sid, jealous womanizers Omi and Jai plot to break up the new lovebirds.                          2\n",
       "From controversial cartoonist to powerful Mumbai politician, this biopic maps the meteoric rise of far-right Shiv Sena party founder, Bal Thackeray.         2\n",
       "After devastating terror attacks in Norway, a young survivor, grieving families and the country rally for justice and healing. Based on a true story.        2\n",
       "When Elastigirl gets recruited for a high-profile crime-fighting mission, Mr. Incredible takes on his toughest assignment ever: full-time parenting.         2\n",
       "As a series of murders hit close to home, a video game designer with post-traumatic stress must confront her demons, or risk becoming their victim.          2\n",
       "A scheming matriarch plots to cut off her disabled stepson and his wife from the family fortune, creating a division within the clan.                        2\n",
       "This educational series for tiny tots features a toe-tapping spin on nursery rhymes with upbeat tunes and a diverse set of easy-to-follow lessons.           2\n",
       "Cora has three sons and a daughter and she´s almost 80. One day during a family reunion the big question comes up: who will be her heir?                     2\n",
       "A budding politician has devious plans to rise in the ranks — until an unexpected new presence begins to interfere with his every crooked move.              2\n",
       "An affable, newly appointed college warden proves to be no ordinary man when an old enemy resurfaces and exposes his complicated, violent past.              2\n",
       "An aspiring musician battles age-old caste divides to be able to learn the art of a classical instrument from a traditionalist, veteran percussionist.       2\n",
       "Two quirky cats, Ollie and Moon, and their friend Stanley the snail travel the world, solving everyday problems and learning about different cultures.       2\n",
       "Born into a small town controlled by the mafia, an irate young woman seeks revenge on the forces that tore apart and wrongfully imprisoned her family.       2\n",
       "After growing up enduring criticism from his father, a young man finds his world shaken upon learning he was switched at birth with a millionaire’s son.     2\n",
       "As a blind librarian, dispirited cricketer and desolate psychiatrist each seek retribution and release, their lives overlap under eerie influences.          2\n",
       "As a psychology professor faces Alzheimer's, his daughter and her three close female friends experience romance, marriage, heartbreak and tragedy.           2\n",
       "A young Han Solo tries to settle an old score with the help of his new buddy Chewbacca, a crew of space smugglers and a cunning old friend.                  2\n",
       "Name: count, dtype: int64"
      ]
     },
     "execution_count": 150,
     "metadata": {},
     "output_type": "execute_result"
    }
   ],
   "source": [
    "df.description.value_counts()[df.description.value_counts() >1]"
   ]
  },
  {
   "cell_type": "code",
   "execution_count": 151,
   "id": "ece5f554-12cc-4075-91bb-b3ba0d938d15",
   "metadata": {},
   "outputs": [
    {
     "data": {
      "text/html": [
       "<div>\n",
       "<style scoped>\n",
       "    .dataframe tbody tr th:only-of-type {\n",
       "        vertical-align: middle;\n",
       "    }\n",
       "\n",
       "    .dataframe tbody tr th {\n",
       "        vertical-align: top;\n",
       "    }\n",
       "\n",
       "    .dataframe thead th {\n",
       "        text-align: right;\n",
       "    }\n",
       "</style>\n",
       "<table border=\"1\" class=\"dataframe\">\n",
       "  <thead>\n",
       "    <tr style=\"text-align: right;\">\n",
       "      <th></th>\n",
       "      <th>type</th>\n",
       "      <th>title</th>\n",
       "      <th>director</th>\n",
       "      <th>cast</th>\n",
       "      <th>country</th>\n",
       "      <th>date_added</th>\n",
       "      <th>release_year</th>\n",
       "      <th>rating</th>\n",
       "      <th>duration</th>\n",
       "      <th>listed_in</th>\n",
       "      <th>description</th>\n",
       "      <th>month_added</th>\n",
       "      <th>year_added</th>\n",
       "    </tr>\n",
       "    <tr>\n",
       "      <th>show_id</th>\n",
       "      <th></th>\n",
       "      <th></th>\n",
       "      <th></th>\n",
       "      <th></th>\n",
       "      <th></th>\n",
       "      <th></th>\n",
       "      <th></th>\n",
       "      <th></th>\n",
       "      <th></th>\n",
       "      <th></th>\n",
       "      <th></th>\n",
       "      <th></th>\n",
       "      <th></th>\n",
       "    </tr>\n",
       "  </thead>\n",
       "  <tbody>\n",
       "    <tr>\n",
       "      <th>s8052</th>\n",
       "      <td>Movie</td>\n",
       "      <td>Solo: A Star Wars Story</td>\n",
       "      <td>Ron Howard</td>\n",
       "      <td>Alden Ehrenreich, Woody Harrelson, Emilia Clar...</td>\n",
       "      <td>United States</td>\n",
       "      <td>2019-01-09</td>\n",
       "      <td>2018.0</td>\n",
       "      <td>PG-13</td>\n",
       "      <td>135 min</td>\n",
       "      <td>Action &amp; Adventure, Children &amp; Family Movies, ...</td>\n",
       "      <td>A young Han Solo tries to settle an old score ...</td>\n",
       "      <td>1.0</td>\n",
       "      <td>2019.0</td>\n",
       "    </tr>\n",
       "    <tr>\n",
       "      <th>s8053</th>\n",
       "      <td>Movie</td>\n",
       "      <td>Solo: A Star Wars Story (Spanish Version)</td>\n",
       "      <td>Ron Howard</td>\n",
       "      <td>Alden Ehrenreich, Woody Harrelson, Emilia Clar...</td>\n",
       "      <td>United States</td>\n",
       "      <td>2019-01-09</td>\n",
       "      <td>2018.0</td>\n",
       "      <td>PG-13</td>\n",
       "      <td>135 min</td>\n",
       "      <td>Action &amp; Adventure, Children &amp; Family Movies, ...</td>\n",
       "      <td>A young Han Solo tries to settle an old score ...</td>\n",
       "      <td>1.0</td>\n",
       "      <td>2019.0</td>\n",
       "    </tr>\n",
       "  </tbody>\n",
       "</table>\n",
       "</div>"
      ],
      "text/plain": [
       "          type                                      title    director  \\\n",
       "show_id                                                                 \n",
       "s8052    Movie                    Solo: A Star Wars Story  Ron Howard   \n",
       "s8053    Movie  Solo: A Star Wars Story (Spanish Version)  Ron Howard   \n",
       "\n",
       "                                                      cast        country  \\\n",
       "show_id                                                                     \n",
       "s8052    Alden Ehrenreich, Woody Harrelson, Emilia Clar...  United States   \n",
       "s8053    Alden Ehrenreich, Woody Harrelson, Emilia Clar...  United States   \n",
       "\n",
       "        date_added  release_year rating duration  \\\n",
       "show_id                                            \n",
       "s8052   2019-01-09        2018.0  PG-13  135 min   \n",
       "s8053   2019-01-09        2018.0  PG-13  135 min   \n",
       "\n",
       "                                                 listed_in  \\\n",
       "show_id                                                      \n",
       "s8052    Action & Adventure, Children & Family Movies, ...   \n",
       "s8053    Action & Adventure, Children & Family Movies, ...   \n",
       "\n",
       "                                               description  month_added  \\\n",
       "show_id                                                                   \n",
       "s8052    A young Han Solo tries to settle an old score ...          1.0   \n",
       "s8053    A young Han Solo tries to settle an old score ...          1.0   \n",
       "\n",
       "         year_added  \n",
       "show_id              \n",
       "s8052        2019.0  \n",
       "s8053        2019.0  "
      ]
     },
     "execution_count": 151,
     "metadata": {},
     "output_type": "execute_result"
    }
   ],
   "source": [
    "df[df.description == 'A young Han Solo tries to settle an old score with the help of his new buddy Chewbacca, a crew of space smugglers and a cunning old friend.']"
   ]
  },
  {
   "cell_type": "code",
   "execution_count": 152,
   "id": "1044398c-d822-464c-a087-9dbd9fd562d5",
   "metadata": {},
   "outputs": [
    {
     "data": {
      "text/html": [
       "<div>\n",
       "<style scoped>\n",
       "    .dataframe tbody tr th:only-of-type {\n",
       "        vertical-align: middle;\n",
       "    }\n",
       "\n",
       "    .dataframe tbody tr th {\n",
       "        vertical-align: top;\n",
       "    }\n",
       "\n",
       "    .dataframe thead th {\n",
       "        text-align: right;\n",
       "    }\n",
       "</style>\n",
       "<table border=\"1\" class=\"dataframe\">\n",
       "  <thead>\n",
       "    <tr style=\"text-align: right;\">\n",
       "      <th></th>\n",
       "      <th>type</th>\n",
       "      <th>title</th>\n",
       "      <th>director</th>\n",
       "      <th>cast</th>\n",
       "      <th>country</th>\n",
       "      <th>date_added</th>\n",
       "      <th>release_year</th>\n",
       "      <th>rating</th>\n",
       "      <th>duration</th>\n",
       "      <th>listed_in</th>\n",
       "      <th>description</th>\n",
       "      <th>month_added</th>\n",
       "      <th>year_added</th>\n",
       "    </tr>\n",
       "    <tr>\n",
       "      <th>show_id</th>\n",
       "      <th></th>\n",
       "      <th></th>\n",
       "      <th></th>\n",
       "      <th></th>\n",
       "      <th></th>\n",
       "      <th></th>\n",
       "      <th></th>\n",
       "      <th></th>\n",
       "      <th></th>\n",
       "      <th></th>\n",
       "      <th></th>\n",
       "      <th></th>\n",
       "      <th></th>\n",
       "    </tr>\n",
       "  </thead>\n",
       "  <tbody>\n",
       "    <tr>\n",
       "      <th>s237</th>\n",
       "      <td>Movie</td>\n",
       "      <td>Boomika</td>\n",
       "      <td>Rathindran R Prasad</td>\n",
       "      <td>Aishwarya Rajesh, Vidhu, Surya Ganapathy, Madh...</td>\n",
       "      <td>Unknown</td>\n",
       "      <td>2021-08-23</td>\n",
       "      <td>2021.0</td>\n",
       "      <td>TV-14</td>\n",
       "      <td>122 min</td>\n",
       "      <td>Horror Movies, International Movies, Thrillers</td>\n",
       "      <td>Paranormal activity at a lush, abandoned prope...</td>\n",
       "      <td>8.0</td>\n",
       "      <td>2021.0</td>\n",
       "    </tr>\n",
       "    <tr>\n",
       "      <th>s238</th>\n",
       "      <td>Movie</td>\n",
       "      <td>Boomika (Hindi)</td>\n",
       "      <td>Rathindran R Prasad</td>\n",
       "      <td>Aishwarya Rajesh, Vidhu, Surya Ganapathy, Madh...</td>\n",
       "      <td>Unknown</td>\n",
       "      <td>2021-08-23</td>\n",
       "      <td>2021.0</td>\n",
       "      <td>TV-14</td>\n",
       "      <td>122 min</td>\n",
       "      <td>Horror Movies, International Movies, Thrillers</td>\n",
       "      <td>Paranormal activity at a lush, abandoned prope...</td>\n",
       "      <td>8.0</td>\n",
       "      <td>2021.0</td>\n",
       "    </tr>\n",
       "    <tr>\n",
       "      <th>s239</th>\n",
       "      <td>Movie</td>\n",
       "      <td>Boomika (Malayalam)</td>\n",
       "      <td>Rathindran R Prasad</td>\n",
       "      <td>Aishwarya Rajesh, Vidhu, Surya Ganapathy, Madh...</td>\n",
       "      <td>Unknown</td>\n",
       "      <td>2021-08-23</td>\n",
       "      <td>2021.0</td>\n",
       "      <td>TV-14</td>\n",
       "      <td>122 min</td>\n",
       "      <td>Horror Movies, International Movies, Thrillers</td>\n",
       "      <td>Paranormal activity at a lush, abandoned prope...</td>\n",
       "      <td>8.0</td>\n",
       "      <td>2021.0</td>\n",
       "    </tr>\n",
       "    <tr>\n",
       "      <th>s240</th>\n",
       "      <td>Movie</td>\n",
       "      <td>Boomika (Telugu)</td>\n",
       "      <td>Rathindran R Prasad</td>\n",
       "      <td>Aishwarya Rajesh, Vidhu, Surya Ganapathy, Madh...</td>\n",
       "      <td>Unknown</td>\n",
       "      <td>2021-08-23</td>\n",
       "      <td>2021.0</td>\n",
       "      <td>TV-14</td>\n",
       "      <td>122 min</td>\n",
       "      <td>Horror Movies, International Movies, Thrillers</td>\n",
       "      <td>Paranormal activity at a lush, abandoned prope...</td>\n",
       "      <td>8.0</td>\n",
       "      <td>2021.0</td>\n",
       "    </tr>\n",
       "  </tbody>\n",
       "</table>\n",
       "</div>"
      ],
      "text/plain": [
       "          type                title             director  \\\n",
       "show_id                                                    \n",
       "s237     Movie              Boomika  Rathindran R Prasad   \n",
       "s238     Movie      Boomika (Hindi)  Rathindran R Prasad   \n",
       "s239     Movie  Boomika (Malayalam)  Rathindran R Prasad   \n",
       "s240     Movie     Boomika (Telugu)  Rathindran R Prasad   \n",
       "\n",
       "                                                      cast  country  \\\n",
       "show_id                                                               \n",
       "s237     Aishwarya Rajesh, Vidhu, Surya Ganapathy, Madh...  Unknown   \n",
       "s238     Aishwarya Rajesh, Vidhu, Surya Ganapathy, Madh...  Unknown   \n",
       "s239     Aishwarya Rajesh, Vidhu, Surya Ganapathy, Madh...  Unknown   \n",
       "s240     Aishwarya Rajesh, Vidhu, Surya Ganapathy, Madh...  Unknown   \n",
       "\n",
       "        date_added  release_year rating duration  \\\n",
       "show_id                                            \n",
       "s237    2021-08-23        2021.0  TV-14  122 min   \n",
       "s238    2021-08-23        2021.0  TV-14  122 min   \n",
       "s239    2021-08-23        2021.0  TV-14  122 min   \n",
       "s240    2021-08-23        2021.0  TV-14  122 min   \n",
       "\n",
       "                                              listed_in  \\\n",
       "show_id                                                   \n",
       "s237     Horror Movies, International Movies, Thrillers   \n",
       "s238     Horror Movies, International Movies, Thrillers   \n",
       "s239     Horror Movies, International Movies, Thrillers   \n",
       "s240     Horror Movies, International Movies, Thrillers   \n",
       "\n",
       "                                               description  month_added  \\\n",
       "show_id                                                                   \n",
       "s237     Paranormal activity at a lush, abandoned prope...          8.0   \n",
       "s238     Paranormal activity at a lush, abandoned prope...          8.0   \n",
       "s239     Paranormal activity at a lush, abandoned prope...          8.0   \n",
       "s240     Paranormal activity at a lush, abandoned prope...          8.0   \n",
       "\n",
       "         year_added  \n",
       "show_id              \n",
       "s237         2021.0  \n",
       "s238         2021.0  \n",
       "s239         2021.0  \n",
       "s240         2021.0  "
      ]
     },
     "execution_count": 152,
     "metadata": {},
     "output_type": "execute_result"
    }
   ],
   "source": [
    "df[df.description == 'Paranormal activity at a lush, abandoned property alarms a group eager to redevelop the site, but the eerie events may not be as unearthly as they think.']"
   ]
  },
  {
   "cell_type": "markdown",
   "id": "bd525a71-8fd8-4ddd-8ab4-8a685f25cdf9",
   "metadata": {},
   "source": [
    "##### Don't seem to be duplicates, just different translations"
   ]
  },
  {
   "cell_type": "markdown",
   "id": "e3fc1da6-09a5-43ce-93ed-74b63469bf32",
   "metadata": {},
   "source": [
    "#### 6. Handling outliers"
   ]
  },
  {
   "cell_type": "code",
   "execution_count": 155,
   "id": "53a2d2bd-5c75-4b7f-86c2-8f9118733e65",
   "metadata": {},
   "outputs": [
    {
     "data": {
      "text/plain": [
       "type             0\n",
       "title            0\n",
       "director         0\n",
       "cast             0\n",
       "country          0\n",
       "date_added      10\n",
       "release_year     0\n",
       "rating           7\n",
       "duration         0\n",
       "listed_in        0\n",
       "description      0\n",
       "month_added     10\n",
       "year_added      10\n",
       "dtype: int64"
      ]
     },
     "execution_count": 155,
     "metadata": {},
     "output_type": "execute_result"
    }
   ],
   "source": []
  },
  {
   "cell_type": "markdown",
   "id": "d98272aa-a64d-4069-8f6c-18b21efe1daf",
   "metadata": {},
   "source": [
    "#### Analysis"
   ]
  },
  {
   "cell_type": "code",
   "execution_count": 161,
   "id": "d8f4b1e4-15df-416c-876d-b43ca4b31710",
   "metadata": {},
   "outputs": [
    {
     "data": {
      "text/html": [
       "<div>\n",
       "<style scoped>\n",
       "    .dataframe tbody tr th:only-of-type {\n",
       "        vertical-align: middle;\n",
       "    }\n",
       "\n",
       "    .dataframe tbody tr th {\n",
       "        vertical-align: top;\n",
       "    }\n",
       "\n",
       "    .dataframe thead th {\n",
       "        text-align: right;\n",
       "    }\n",
       "</style>\n",
       "<table border=\"1\" class=\"dataframe\">\n",
       "  <thead>\n",
       "    <tr style=\"text-align: right;\">\n",
       "      <th></th>\n",
       "      <th>type</th>\n",
       "      <th>title</th>\n",
       "      <th>director</th>\n",
       "      <th>cast</th>\n",
       "      <th>country</th>\n",
       "      <th>date_added</th>\n",
       "      <th>release_year</th>\n",
       "      <th>rating</th>\n",
       "      <th>duration</th>\n",
       "      <th>listed_in</th>\n",
       "      <th>description</th>\n",
       "      <th>month_added</th>\n",
       "      <th>year_added</th>\n",
       "    </tr>\n",
       "    <tr>\n",
       "      <th>show_id</th>\n",
       "      <th></th>\n",
       "      <th></th>\n",
       "      <th></th>\n",
       "      <th></th>\n",
       "      <th></th>\n",
       "      <th></th>\n",
       "      <th></th>\n",
       "      <th></th>\n",
       "      <th></th>\n",
       "      <th></th>\n",
       "      <th></th>\n",
       "      <th></th>\n",
       "      <th></th>\n",
       "    </tr>\n",
       "  </thead>\n",
       "  <tbody>\n",
       "    <tr>\n",
       "      <th>s1</th>\n",
       "      <td>Movie</td>\n",
       "      <td>Dick Johnson Is Dead</td>\n",
       "      <td>Kirsten Johnson</td>\n",
       "      <td>Unknown</td>\n",
       "      <td>United States</td>\n",
       "      <td>2021-09-25</td>\n",
       "      <td>2020.0</td>\n",
       "      <td>PG-13</td>\n",
       "      <td>90 min</td>\n",
       "      <td>Documentaries</td>\n",
       "      <td>As her father nears the end of his life, filmm...</td>\n",
       "      <td>9.0</td>\n",
       "      <td>2021.0</td>\n",
       "    </tr>\n",
       "  </tbody>\n",
       "</table>\n",
       "</div>"
      ],
      "text/plain": [
       "          type                 title         director     cast        country  \\\n",
       "show_id                                                                         \n",
       "s1       Movie  Dick Johnson Is Dead  Kirsten Johnson  Unknown  United States   \n",
       "\n",
       "        date_added  release_year rating duration      listed_in  \\\n",
       "show_id                                                           \n",
       "s1      2021-09-25        2020.0  PG-13   90 min  Documentaries   \n",
       "\n",
       "                                               description  month_added  \\\n",
       "show_id                                                                   \n",
       "s1       As her father nears the end of his life, filmm...          9.0   \n",
       "\n",
       "         year_added  \n",
       "show_id              \n",
       "s1           2021.0  "
      ]
     },
     "execution_count": 161,
     "metadata": {},
     "output_type": "execute_result"
    }
   ],
   "source": [
    "df.head(1)"
   ]
  },
  {
   "cell_type": "code",
   "execution_count": 170,
   "id": "102dcd4b-5def-4de7-900c-1fac74ec5b79",
   "metadata": {},
   "outputs": [
    {
     "data": {
      "image/png": "[encoded data removed]",
      "text/plain": [
       "<Figure size 640x480 with 1 Axes>"
      ]
     },
     "metadata": {},
     "output_type": "display_data"
    },
    {
     "data": {
      "image/png": "[encoded data removed]",
      "text/plain": [
       "<Figure size 640x480 with 1 Axes>"
      ]
     },
     "metadata": {},
     "output_type": "display_data"
    },
    {
     "data": {
      "image/png": "[encoded data removed]",
      "text/plain": [
       "<Figure size 640x480 with 1 Axes>"
      ]
     },
     "metadata": {},
     "output_type": "display_data"
    },
    {
     "data": {
      "image/png": "[encoded data removed]",
      "text/plain": [
       "<Figure size 640x480 with 1 Axes>"
      ]
     },
     "metadata": {},
     "output_type": "display_data"
    }
   ],
   "source": [
    "\n",
    "for col in [col for col in df.select_dtypes(exclude='object').columns]:\n",
    "    try:\n",
    "        plt.figure()\n",
    "        sns.boxplot(data=df, y=col)\n",
    "        plt.show()\n",
    "    except:print('n')"
   ]
  },
  {
   "cell_type": "markdown",
   "id": "40f524bf-e0e6-419d-a16d-e145ecc86789",
   "metadata": {},
   "source": [
    "missing director and cast cannot be dealt with manually, too many missing elements.\n",
    "    reason they are missing?\n",
    "\n",
    "country similar\n",
    "\n",
    "date added, rating and duration can be checked and added."
   ]
  },
  {
   "cell_type": "code",
   "execution_count": 158,
   "id": "6ef136fb-4e97-46b4-98b7-0bd9d9f9e133",
   "metadata": {},
   "outputs": [
    {
     "data": {
      "text/html": [
       "<div>\n",
       "<style scoped>\n",
       "    .dataframe tbody tr th:only-of-type {\n",
       "        vertical-align: middle;\n",
       "    }\n",
       "\n",
       "    .dataframe tbody tr th {\n",
       "        vertical-align: top;\n",
       "    }\n",
       "\n",
       "    .dataframe thead th {\n",
       "        text-align: right;\n",
       "    }\n",
       "</style>\n",
       "<table border=\"1\" class=\"dataframe\">\n",
       "  <thead>\n",
       "    <tr style=\"text-align: right;\">\n",
       "      <th></th>\n",
       "      <th>type</th>\n",
       "      <th>title</th>\n",
       "      <th>cast</th>\n",
       "      <th>country</th>\n",
       "      <th>date_added</th>\n",
       "      <th>release_year</th>\n",
       "      <th>rating</th>\n",
       "      <th>duration</th>\n",
       "      <th>listed_in</th>\n",
       "      <th>description</th>\n",
       "      <th>month_added</th>\n",
       "      <th>year_added</th>\n",
       "    </tr>\n",
       "    <tr>\n",
       "      <th>director</th>\n",
       "      <th></th>\n",
       "      <th></th>\n",
       "      <th></th>\n",
       "      <th></th>\n",
       "      <th></th>\n",
       "      <th></th>\n",
       "      <th></th>\n",
       "      <th></th>\n",
       "      <th></th>\n",
       "      <th></th>\n",
       "      <th></th>\n",
       "      <th></th>\n",
       "    </tr>\n",
       "  </thead>\n",
       "  <tbody>\n",
       "    <tr>\n",
       "      <th>Unknown</th>\n",
       "      <td>2634</td>\n",
       "      <td>2634</td>\n",
       "      <td>2634</td>\n",
       "      <td>2634</td>\n",
       "      <td>2624</td>\n",
       "      <td>2634</td>\n",
       "      <td>2631</td>\n",
       "      <td>2634</td>\n",
       "      <td>2634</td>\n",
       "      <td>2634</td>\n",
       "      <td>2624</td>\n",
       "      <td>2624</td>\n",
       "    </tr>\n",
       "    <tr>\n",
       "      <th>Rajiv Chilaka</th>\n",
       "      <td>19</td>\n",
       "      <td>19</td>\n",
       "      <td>19</td>\n",
       "      <td>19</td>\n",
       "      <td>19</td>\n",
       "      <td>19</td>\n",
       "      <td>19</td>\n",
       "      <td>19</td>\n",
       "      <td>19</td>\n",
       "      <td>19</td>\n",
       "      <td>19</td>\n",
       "      <td>19</td>\n",
       "    </tr>\n",
       "    <tr>\n",
       "      <th>Raúl Campos, Jan Suter</th>\n",
       "      <td>18</td>\n",
       "      <td>18</td>\n",
       "      <td>18</td>\n",
       "      <td>18</td>\n",
       "      <td>18</td>\n",
       "      <td>18</td>\n",
       "      <td>18</td>\n",
       "      <td>18</td>\n",
       "      <td>18</td>\n",
       "      <td>18</td>\n",
       "      <td>18</td>\n",
       "      <td>18</td>\n",
       "    </tr>\n",
       "    <tr>\n",
       "      <th>Marcus Raboy</th>\n",
       "      <td>16</td>\n",
       "      <td>16</td>\n",
       "      <td>16</td>\n",
       "      <td>16</td>\n",
       "      <td>16</td>\n",
       "      <td>16</td>\n",
       "      <td>16</td>\n",
       "      <td>16</td>\n",
       "      <td>16</td>\n",
       "      <td>16</td>\n",
       "      <td>16</td>\n",
       "      <td>16</td>\n",
       "    </tr>\n",
       "    <tr>\n",
       "      <th>Suhas Kadav</th>\n",
       "      <td>16</td>\n",
       "      <td>16</td>\n",
       "      <td>16</td>\n",
       "      <td>16</td>\n",
       "      <td>16</td>\n",
       "      <td>16</td>\n",
       "      <td>16</td>\n",
       "      <td>16</td>\n",
       "      <td>16</td>\n",
       "      <td>16</td>\n",
       "      <td>16</td>\n",
       "      <td>16</td>\n",
       "    </tr>\n",
       "  </tbody>\n",
       "</table>\n",
       "</div>"
      ],
      "text/plain": [
       "                        type  title  cast  country  date_added  release_year  \\\n",
       "director                                                                       \n",
       "Unknown                 2634   2634  2634     2634        2624          2634   \n",
       "Rajiv Chilaka             19     19    19       19          19            19   \n",
       "Raúl Campos, Jan Suter    18     18    18       18          18            18   \n",
       "Marcus Raboy              16     16    16       16          16            16   \n",
       "Suhas Kadav               16     16    16       16          16            16   \n",
       "\n",
       "                        rating  duration  listed_in  description  month_added  \\\n",
       "director                                                                        \n",
       "Unknown                   2631      2634       2634         2634         2624   \n",
       "Rajiv Chilaka               19        19         19           19           19   \n",
       "Raúl Campos, Jan Suter      18        18         18           18           18   \n",
       "Marcus Raboy                16        16         16           16           16   \n",
       "Suhas Kadav                 16        16         16           16           16   \n",
       "\n",
       "                        year_added  \n",
       "director                            \n",
       "Unknown                       2624  \n",
       "Rajiv Chilaka                   19  \n",
       "Raúl Campos, Jan Suter          18  \n",
       "Marcus Raboy                    16  \n",
       "Suhas Kadav                     16  "
      ]
     },
     "execution_count": 158,
     "metadata": {},
     "output_type": "execute_result"
    }
   ],
   "source": [
    "df.groupby('director').count().sort_values(by='title',ascending=False).head()"
   ]
  },
  {
   "cell_type": "code",
   "execution_count": 157,
   "id": "c57b5066-46f7-4be9-9b40-45422e4f9834",
   "metadata": {},
   "outputs": [],
   "source": [
    "# df[df['director']=='Rajiv Chilaka']"
   ]
  }
 ],
 "metadata": {
  "kernelspec": {
   "display_name": "Python 3 (ipykernel)",
   "language": "python",
   "name": "python3"
  },
  "language_info": {
   "codemirror_mode": {
    "name": "ipython",
    "version": 3
   },
   "file_extension": ".py",
   "mimetype": "text/x-python",
   "name": "python",
   "nbconvert_exporter": "python",
   "pygments_lexer": "ipython3",
   "version": "3.12.2"
  }
 },
 "nbformat": 4,
 "nbformat_minor": 5
}
